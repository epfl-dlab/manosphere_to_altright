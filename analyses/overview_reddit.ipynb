{
 "cells": [
  {
   "cell_type": "markdown",
   "metadata": {},
   "source": [
    "# General overview"
   ]
  },
  {
   "cell_type": "code",
   "execution_count": 1,
   "metadata": {},
   "outputs": [],
   "source": [
    "import json\n",
    "import gzip\n",
    "import pickle\n",
    "from tqdm import tqdm\n",
    "from collections import defaultdict\n",
    "from helpers import bins_y_s\n",
    "\n",
    "SRC = '/dlabdata1/manosphere-rad/'\n",
    "cat_man = ['MGTOW', 'Incel', 'MRA', \"PUA\", 'TRP']\n",
    "cats = cat_man\n",
    "cats.append('Alt-right')\n",
    "cats.append('Gaming')\n",
    "cats_all = list(cats)\n",
    "cats.append('Manosphere')"
   ]
  },
  {
   "cell_type": "code",
   "execution_count": 2,
   "metadata": {},
   "outputs": [],
   "source": [
    "with gzip.open(SRC+\"subreddits_gaming.json.gz\", 'rb') as f:\n",
    "    channel_dict = json.load(f)\n",
    "\n",
    "count = {b:{cat:0 for cat in cats} for b in bins_y_s}\n",
    "\n",
    "def increment_cat_count_in_bin(b, category, timestamp_v):\n",
    "    for lower, upper in b.keys():\n",
    "        if upper > timestamp_v >= lower:\n",
    "            b[(lower, upper)][category] += 1\n",
    "            break\n",
    "\n",
    "for cat in cats_all:\n",
    "    for channel in channel_dict:\n",
    "        for v in channel_dict[channel]:\n",
    "            if v['category'] != cat:\n",
    "                break\n",
    "            increment_cat_count_in_bin(count, cat, int(v['timestamp']))\n",
    "\n",
    "for k, v in count.items():\n",
    "    manosphere = 0\n",
    "    for cat in cat_man:\n",
    "        manosphere += v[cat]\n",
    "    count[k]['Manosphere'] = manosphere\n",
    "\n",
    "# Checkpoint\n",
    "with open(f\"../helper_files/comments_stats-reddit.pickle\", \"wb\") as f:\n",
    "    pickle.dump(count, f)"
   ]
  },
  {
   "cell_type": "code",
   "execution_count": null,
   "metadata": {},
   "outputs": [],
   "source": []
  }
 ],
 "metadata": {
  "kernelspec": {
   "display_name": "Python 3",
   "language": "python",
   "name": "python3"
  },
  "language_info": {
   "codemirror_mode": {
    "name": "ipython",
    "version": 3
   },
   "file_extension": ".py",
   "mimetype": "text/x-python",
   "name": "python",
   "nbconvert_exporter": "python",
   "pygments_lexer": "ipython3",
   "version": "3.7.7"
  },
  "pycharm": {
   "stem_cell": {
    "cell_type": "raw",
    "source": [],
    "metadata": {
     "collapsed": false
    }
   }
  }
 },
 "nbformat": 4,
 "nbformat_minor": 4
}