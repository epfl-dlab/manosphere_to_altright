{
 "cells": [
  {
   "cell_type": "markdown",
   "metadata": {},
   "source": [
    "# Temporal Analysis, manosphere"
   ]
  },
  {
   "cell_type": "code",
   "execution_count": 1,
   "metadata": {},
   "outputs": [],
   "source": [
    "from helpers import jaccard, populate_bin_with_channel, bins_y_o, bins_t_o, bin_to_df\n",
    "import pandas as pd\n",
    "import pickle\n",
    "import json\n",
    "import gzip\n",
    "\n",
    "SRC = \"/dlabdata1/manosphere-rad/\"\n",
    "\n",
    "# aux functions & vars\n",
    "def helper_df(df, shenanigans=True):\n",
    "    df[\"idx_str\"] = bins_t_o\n",
    "    df_years = df.tail(11)\n",
    "    if shenanigans:\n",
    "        df_years[\"x+y\"] = df_years[\"x\"] + df_years[\"y\"] - df_years[\"intersection\"] \n",
    "        df_years[\"xyz_p\"] = df_years[\"intersection\"] / df_years[\"x+y\"]\n",
    "        df_years[\"intersection/x\"] = df_years[\"intersection\"] / df_years[\"x\"]\n",
    "    return df_years\n",
    "\n",
    "cats_to_control = [\"center\", \"left-center\", \"right-center\", \"left\", \"right\"]\n",
    "cats_all = list(df_sources.Category.value_counts().keys())\n",
    "cats = [cat for cat in cats_all if cat not in cats_to_control]\n",
    "cats.append(\"Control\")\n",
    "cat_man = ['MGTOW', 'Incel', 'MRA', \"PUA\"]\n",
    "cats.append('Manosphere')\n",
    "df_sources = pd.read_csv(SRC + \"sources_final_trimmed.csv\")"
   ]
  },
  {
   "cell_type": "markdown",
   "metadata": {
    "pycharm": {
     "name": "#%% md\n"
    }
   },
   "source": [
    "## Common Commenting Users Along the Years\n",
    "\n",
    "Computation pipeline"
   ]
  },
  {
   "cell_type": "code",
   "execution_count": 2,
   "metadata": {},
   "outputs": [],
   "source": [
    "# Read channels\n",
    "with gzip.open(SRC+\"channels_youtube.json.gz\", 'rb') as f:\n",
    "    channel_dict = json.load(f)"
   ]
  },
  {
   "cell_type": "code",
   "execution_count": 3,
   "metadata": {
    "pycharm": {
     "name": "#%%\n"
    }
   },
   "outputs": [],
   "source": [
    "# Create bins and populate them with channels\n",
    "bins_dict = {}\n",
    "for cat in cats:\n",
    "    bins_dict[cat] = {b:set() for b in bins_y_o}\n",
    "\n",
    "for cat in cats_all:\n",
    "    final_cat = cat if cat in cats else \"Control\"\n",
    "    for channel in df_sources.loc[df_sources[\"Category\"] == cat, \"Id\"]:\n",
    "        populate_bin_with_channel(channel, channel_dict, bins_dict[final_cat])\n",
    "        if cat in cat_man:\n",
    "            populate_bin_with_channel(channel, channel_dict, bins_dict['Manosphere'])\n",
    "            "
   ]
  },
  {
   "cell_type": "code",
   "execution_count": 4,
   "metadata": {},
   "outputs": [],
   "source": [
    "# Creates shifted bins\n",
    "bins_sl_dict = {}\n",
    "\n",
    "for cat, bin_dict in bins_dict.items():\n",
    "    bin_sl_dict = {b:set() for b in bins_y_o}\n",
    "    for idx in range(len(list(bin_dict.keys())) - 1):\n",
    "        shifted = sorted(bin_dict.keys())[idx+1]\n",
    "        actual = sorted(bin_dict.keys())[idx]\n",
    "        bin_sl_dict[shifted] = bin_dict[actual]\n",
    "    bins_sl_dict[cat] = bin_sl_dict"
   ]
  },
  {
   "cell_type": "code",
   "execution_count": 5,
   "metadata": {},
   "outputs": [],
   "source": [
    "# Create bins intersection given the specified function, here, `jaccard`\n",
    "df_inter = {}\n",
    "    \n",
    "for cat1 in cats:\n",
    "    for cat2 in cats:\n",
    "        bins2 = bins_dict if cat1 != cat2 else bins_sl_dict\n",
    "        df_inter[(cat1, cat2)] = helper_df(bin_to_df(bins_y_o, bins_dict[cat1], bins2[cat2], jaccard))\n",
    "\n",
    "with open(\"../helper_files/intersections.pickle\", \"wb\") as f:\n",
    "    pickle.dump(df_inter, f)"
   ]
  },
  {
   "cell_type": "code",
   "execution_count": null,
   "metadata": {
    "pycharm": {
     "name": "#%%\n"
    }
   },
   "outputs": [],
   "source": []
  }
 ],
 "metadata": {
  "kernelspec": {
   "display_name": "Python 3",
   "language": "python",
   "name": "python3"
  },
  "language_info": {
   "codemirror_mode": {
    "name": "ipython",
    "version": 3
   },
   "file_extension": ".py",
   "mimetype": "text/x-python",
   "name": "python",
   "nbconvert_exporter": "python",
   "pygments_lexer": "ipython3",
   "version": "3.7.7"
  },
  "pycharm": {
   "stem_cell": {
    "cell_type": "raw",
    "source": [],
    "metadata": {
     "collapsed": false
    }
   }
  }
 },
 "nbformat": 4,
 "nbformat_minor": 4
}