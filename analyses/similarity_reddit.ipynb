{
 "cells": [
  {
   "cell_type": "markdown",
   "metadata": {},
   "source": [
    "# Temporal Analysis, manosphere"
   ]
  },
  {
   "cell_type": "code",
   "execution_count": 1,
   "metadata": {},
   "outputs": [],
   "source": [
    "from helpers import jaccard, populate_bin_with_channel, bins_y_o, bins_t_o, bin_to_df\n",
    "import pandas as pd\n",
    "import pickle\n",
    "import gzip\n",
    "\n",
    "SRC = '/dlabdata1/manosphere-rad/'\n",
    "\n",
    "# aux functions & vars\n",
    "def helper_df(df, shenanigans=True):\n",
    "    df[\"idx_str\"] = bins_t_o\n",
    "    df_years = df.tail(11)\n",
    "    if shenanigans:\n",
    "        df_years[\"x+y\"] = df_years[\"x\"] + df_years[\"y\"] - df_years[\"intersection\"] \n",
    "        df_years[\"xyz_p\"] = df_years[\"intersection\"] / df_years[\"x+y\"]\n",
    "        df_years[\"intersection/x\"] = df_years[\"intersection\"] / df_years[\"x\"]\n",
    "    return df_years\n",
    "\n",
    "cat_man = ['MGTOW', 'Incel', 'MRA', \"PUA\", 'TRP']\n",
    "cats = list(cat_man)\n",
    "cats.appenerd('Alt-right')\n",
    "cats_all = list(cats)\n",
    "cats.append('Manosphere')\n",
    "cat_control = []\n",
    "for cat in cats:\n",
    "    cat_control.append('Control'+cat)"
   ]
  },
  {
   "cell_type": "markdown",
   "metadata": {
    "pycharm": {
     "name": "#%% md\n"
    }
   },
   "source": [
    "## Common Commenting Users Along the Years\n",
    "\n",
    "Computation pipeline"
   ]
  },
  {
   "cell_type": "code",
   "execution_count": 2,
   "metadata": {},
   "outputs": [],
   "source": [
    "# Compute number of unique users per subreddits and category\n",
    "# Use checkpoint or create new data?\n",
    "CREATE_DATA_USERS = False\n",
    "if CREATE_DATA_USERS:\n",
    "    with gzip.open(SRC+\"users_reddit_random.json.gz\", 'rb') as f:\n",
    "        authors_dict = json.load(f)\n",
    "    unique_users = {'categories': defaultdict(int), 'subreddits': defaultdict(int)}\n",
    "\n",
    "    for author, comments in tqdm(authors_dict.items()): \n",
    "        is_present = {'categories': defaultdict(bool), 'subreddits': defaultdict(bool)}\n",
    "        for comment in comments:\n",
    "            cat = comment['category']\n",
    "            is_present['subreddits'][comment['channel_id']] = True\n",
    "            is_present['categories'][cat] = True\n",
    "            if cat in cat_man:\n",
    "                is_present['categories']['Manosphere'] = True\n",
    "        for meta, items in is_present.items():\n",
    "            for key, val in items.items():\n",
    "                if val:\n",
    "                    unique_users[meta][key] += 1\n",
    "    \n",
    "    print(unique_users['categories'])\n",
    "    \n",
    "    with open(f\"../data/unique_user-reddit.pickle\", \"wb\") as f:\n",
    "        pickle.dump(unique_users, f)\n",
    "else:\n",
    "    with open(f\"../data/unique_user-reddit.pickle\", \"rb\") as f:\n",
    "        unique_users = pickle.load(f)\n",
    "    print(unique_users['categories'])"
   ]
  },
  {
   "cell_type": "code",
   "execution_count": 3,
   "metadata": {
    "pycharm": {
     "name": "#%%\n"
    }
   },
   "outputs": [],
   "source": [
    "# Read channels\n",
    "with gzip.open(SRC+\"subreddits_random.json.gz\", 'rb') as f:\n",
    "    channel_dict = json.load(f)\n",
    "    \n",
    "BOOTSTRAP_ITERATIONS = 100\n",
    "    \n",
    "# Create bins and populate them with channels\n",
    "bins_dict = {}\n",
    "for cat in cats:\n",
    "    bins_dict[cat] = {b:set() for b in bins_y_o}\n",
    "for cat in cat_control:\n",
    "    for i in range(BOOTSTRAP_ITERATIONS):\n",
    "        bins_dict[cat+str(i)] = {b:set() for b in bins_y_o}\n",
    "    \n",
    "def create_and_populate_control(category):\n",
    "    for iteration_index in range(BOOTSTRAP_ITERATIONS):\n",
    "        seed = 42 + cats.index(category)*BOOTSTRAP_ITERATIONS + iteration_index\n",
    "        random.seed(seed)\n",
    "        keys = list(channel_dict.keys())\n",
    "        random.shuffle(keys)\n",
    "        goal = unique_users['categories'][category]\n",
    "\n",
    "        for channel in keys:\n",
    "            if goal - unique_users['subreddits'][channel] < -1000 or\\\n",
    "                channel_dict[channel][0]['category'] != 'Control':\n",
    "                continue\n",
    "\n",
    "            populate_bin_with_channel(channel, channel_dict, bins_dict['Control'+category+str(iteration_index)])\n",
    "\n",
    "            goal -= unique_users['subreddits'][channel]\n",
    "            if goal < 0:\n",
    "                break\n",
    "\n",
    "for cat in cats_all:\n",
    "    final_cat = cat\n",
    "    for channel, comments in channel_dict.items():\n",
    "        if comments[0]['category'] == cat:\n",
    "            populate_bin_with_channel(channel, channel_dict, bins_dict[final_cat])\n",
    "            if cat in cat_man:\n",
    "                populate_bin_with_channel(channel, channel_dict, bins_dict['Manosphere'])\n",
    "    create_and_populate_control(cat)\n",
    "create_and_populate_control('Manosphere')"
   ]
  },
  {
   "cell_type": "code",
   "execution_count": 4,
   "metadata": {},
   "outputs": [],
   "source": [
    "# Creates shifted bins\n",
    "bins_sl_dict = {}\n",
    "\n",
    "for cat, bin_dict in bins_dict.items():\n",
    "    bin_sl_dict = {b:set() for b in bins_y_o}\n",
    "    for idx in range(len(list(bin_dict.keys())) - 1):\n",
    "        shifted = sorted(bin_dict.keys())[idx+1]\n",
    "        actual = sorted(bin_dict.keys())[idx]\n",
    "        bin_sl_dict[shifted] = bin_dict[actual]\n",
    "    bins_sl_dict[cat] = bin_sl_dict"
   ]
  },
  {
   "cell_type": "code",
   "execution_count": 5,
   "metadata": {},
   "outputs": [],
   "source": [
    "# Create bins intersection given the specified function, here, `jaccard`\n",
    "df_inter = {}\n",
    "    \n",
    "for cat1 in cats:\n",
    "    for cat2 in cats:\n",
    "        if (cat2, cat1) in df_inter:\n",
    "            df_inter[(cat1, cat2)] = df_inter[(cat2, cat1)]\n",
    "        else:\n",
    "            bins2 = bins_dict if cat1 != cat2 else bins_sl_dict\n",
    "            df_inter[(cat1, cat2)] = helper_df(bin_to_df(bins_y_o, bins_dict[cat1], bins2[cat2], jaccard))\n",
    "with open(f\"../data/intersections-reddit.pickle\", \"wb\") as f:\n",
    "    pickle.dump(df_inter, f)"
   ]
  },
  {
   "cell_type": "code",
   "execution_count": 6,
   "metadata": {},
   "outputs": [],
   "source": [
    "df_control = {}\n",
    "for cat in cats:\n",
    "    inters = []\n",
    "    for bootstrap_id in range(BOOTSTRAP_ITERATIONS):\n",
    "        inters.append(helper_df(bin_to_df(bins_y_o, bins_dict[cat], \n",
    "                                          bins_dict['Control'+cat+str(bootstrap_id)], \n",
    "                                          jaccard)))\n",
    "        \n",
    "    values = {y:[] for y in bins_t_o[3:]}\n",
    "    for inter in inters:\n",
    "        for i in range(len(inter.index)):\n",
    "            year = list(inter['idx_str'])[i]\n",
    "            values[year].append(list(inter['jaccard'])[i])\n",
    "    print(cat)\n",
    "    for year, pct in values.items():\n",
    "        print(f' - {year}: {100*np.mean(pct):.2f}% (stdev: {100*np.std(pct):.2f}%)')\n",
    "\n",
    "    df_control[cat] = inters[0].set_index('idx_str')['jaccard']\n",
    "    for inter in inters[1:]:  \n",
    "        df_control[cat] += inter.set_index('idx_str')['jaccard']\n",
    "    df_control[cat] /= BOOTSTRAP_ITERATIONS\n",
    "\n",
    "#Alt-right compared with sample of community size\n",
    "for cat in cats:\n",
    "    inters = []\n",
    "    for bootstrap_id in range(BOOTSTRAP_ITERATIONS):\n",
    "        inters.append(helper_df(bin_to_df(bins_y_o, bins_dict[\"Alt-right\"], \n",
    "                                          bins_dict['Control'+cat+str(bootstrap_id)], \n",
    "                                          jaccard)))\n",
    "        \n",
    "    values = {y:[] for y in bins_t_o[3:]}\n",
    "    for inter in inters:\n",
    "        for i in range(len(inter.index)):\n",
    "            year = list(inter['idx_str'])[i]\n",
    "            values[year].append(list(inter['jaccard'])[i])\n",
    "    print(\"Alt-right+\"+cat)\n",
    "    for year, pct in values.items():\n",
    "        print(f' - {year}: {100*np.mean(pct):.2f}% (stdev: {100*np.std(pct):.2f}%)')\n",
    "\n",
    "    df_control[\"Alt-right\"+cat] = inters[0].set_index('idx_str')['jaccard']\n",
    "    for inter in inters[1:]:  \n",
    "        df_control[\"Alt-right\"+cat] += inter.set_index('idx_str')['jaccard']\n",
    "    df_control[\"Alt-right\"+cat] /= BOOTSTRAP_ITERATIONS\n",
    "    \n",
    "\n",
    "with open(f\"../data/intersections_control-reddit.pickle\", \"wb\") as f:\n",
    "    pickle.dump(df_control, f)"
   ]
  },
  {
   "cell_type": "code",
   "execution_count": null,
   "metadata": {
    "pycharm": {
     "name": "#%%\n"
    }
   },
   "outputs": [],
   "source": []
  }
 ],
 "metadata": {
  "kernelspec": {
   "display_name": "Python 3",
   "language": "python",
   "name": "python3"
  },
  "language_info": {
   "codemirror_mode": {
    "name": "ipython",
    "version": 3
   },
   "file_extension": ".py",
   "mimetype": "text/x-python",
   "name": "python",
   "nbconvert_exporter": "python",
   "pygments_lexer": "ipython3",
   "version": "3.7.7"
  },
  "pycharm": {
   "stem_cell": {
    "cell_type": "raw",
    "source": [],
    "metadata": {
     "collapsed": false
    }
   }
  }
 },
 "nbformat": 4,
 "nbformat_minor": 4
}